{
 "cells": [
  {
   "cell_type": "markdown",
   "id": "79bd03ea-e7f5-42e7-8fc0-a906e140710a",
   "metadata": {},
   "source": [
    "# Week 1 - Python Basics\n",
    "#Topics - Datatypes, Strings, Conditional Statements"
   ]
  },
  {
   "cell_type": "markdown",
   "id": "4d328531-a2a3-45d6-a025-5ac6090f1048",
   "metadata": {},
   "source": [
    "1] Datatypes in Python\n",
    "Used to store different kinds of values:\n",
    "Numeric types: int, float, complex\n",
    "Mapping type: dict\n",
    "Boolean: bool\n",
    "Set type: set,frozenset\n",
    "Sequence types: String, List, Tuple"
   ]
  },
  {
   "cell_type": "code",
   "execution_count": 2,
   "id": "568552ab-e7be-40dc-b5f5-4aa226d3b985",
   "metadata": {},
   "outputs": [
    {
     "name": "stdout",
     "output_type": "stream",
     "text": [
      "a: 10 Type: <class 'int'>\n",
      "b: 3.14 Type: <class 'float'>\n",
      "c: True Type: <class 'bool'>\n",
      "d: Hello Type: <class 'str'>\n",
      "List: [1, 2, 3, 4, ['nested', 'list']] Type: <class 'list'>\n",
      "Tuple: (10, 20, 30) Type: <class 'tuple'>\n",
      "Set: {1, 2, 3, 4} Type: <class 'set'>\n",
      "Dictionary: {'name': 'Harshitha', 'age': 20, 'skills': ['Python', 'DS']} Type: <class 'dict'>\n",
      "Typecasting: 100 <class 'int'>\n"
     ]
    }
   ],
   "source": [
    "# Integer\n",
    "a = 10\n",
    "print(\"a:\", a, \"Type:\", type(a))\n",
    "\n",
    "# Float\n",
    "b = 3.14\n",
    "print(\"b:\", b, \"Type:\", type(b))\n",
    "\n",
    "# Boolean\n",
    "c = True\n",
    "print(\"c:\", c, \"Type:\", type(c))\n",
    "\n",
    "# String\n",
    "d = \"Hello\"\n",
    "print(\"d:\", d, \"Type:\", type(d))\n",
    "\n",
    "# List\n",
    "my_list = [1, 2, 3, 4, [\"nested\", \"list\"]]\n",
    "print(\"List:\", my_list, \"Type:\", type(my_list))\n",
    "\n",
    "# Tuple\n",
    "my_tuple = (10, 20, 30)\n",
    "print(\"Tuple:\", my_tuple, \"Type:\", type(my_tuple))\n",
    "\n",
    "# Set\n",
    "my_set = {1, 2, 3, 3, 4}\n",
    "print(\"Set:\", my_set, \"Type:\", type(my_set))\n",
    "\n",
    "# Dictionary\n",
    "my_dict = {\"name\": \"Harshitha\", \"age\": 20, \"skills\": [\"Python\", \"DS\"]}\n",
    "print(\"Dictionary:\", my_dict, \"Type:\", type(my_dict))\n",
    "\n",
    "# Typecasting\n",
    "num_str = \"100\"\n",
    "num_int = int(num_str)   # string → int\n",
    "print(\"Typecasting:\", num_int, type(num_int))"
   ]
  },
  {
   "cell_type": "markdown",
   "id": "b38857a3-1824-42a9-9895-96bbffa0e4fd",
   "metadata": {},
   "source": [
    "2] Strings in Python\n",
    "Strings are sequence of characters enclosed in single or double quotes.\n",
    "Strings are immutable.\n",
    "Common operations:\n",
    " Indexing & Slicing -> s[0], s[1:5]\n",
    " Built-in-methods -> s.upper(), s.lower(), s.replace(), s.split()\n",
    " Concatenation -> \"Hello\" + \"World\"\n",
    " Repetition -> \"Hi\" *3"
   ]
  },
  {
   "cell_type": "code",
   "execution_count": 3,
   "id": "ea6f908b-7151-42fd-958d-03d20b6bd170",
   "metadata": {},
   "outputs": [
    {
     "name": "stdout",
     "output_type": "stream",
     "text": [
      "Original: Data Science\n",
      "First character: D\n",
      "Last character: e\n",
      "First 4 letters: Data\n",
      "From index 5 to end: Science\n",
      "Uppercase: DATA SCIENCE\n",
      "Lowercase: data science\n",
      "Replace: AI Science\n",
      "Find position of 'Science': 5\n",
      "Count 'a': 2\n",
      "'Data' in s? True\n",
      "Concatenation: Data Science\n",
      "My name is Harshitha and I am learning Python.\n"
     ]
    }
   ],
   "source": [
    "# String creation\n",
    "s = \"Data Science\"\n",
    "print(\"Original:\", s)\n",
    "\n",
    "# Indexing\n",
    "print(\"First character:\", s[0])\n",
    "print(\"Last character:\", s[-1])\n",
    "\n",
    "# Slicing\n",
    "print(\"First 4 letters:\", s[:4])\n",
    "print(\"From index 5 to end:\", s[5:])\n",
    "\n",
    "# String methods\n",
    "print(\"Uppercase:\", s.upper())\n",
    "print(\"Lowercase:\", s.lower())\n",
    "print(\"Replace:\", s.replace(\"Data\", \"AI\"))\n",
    "print(\"Find position of 'Science':\", s.find(\"Science\"))\n",
    "print(\"Count 'a':\", s.count(\"a\"))\n",
    "\n",
    "# Substring check\n",
    "print(\"'Data' in s?\", \"Data\" in s)\n",
    "\n",
    "# String concatenation\n",
    "s1 = \"Data\"\n",
    "s2 = \"Science\"\n",
    "print(\"Concatenation:\", s1 + \" \" + s2)\n",
    "\n",
    "# String formatting\n",
    "name = \"Harshitha\"\n",
    "course = \"Python\"\n",
    "print(f\"My name is {name} and I am learning {course}.\")"
   ]
  },
  {
   "cell_type": "markdown",
   "id": "cc34e79e-6b23-410f-aa31-3e6f0c907ec2",
   "metadata": {},
   "source": [
    "3] Conditional Statements\n",
    "Helps us to make decisions in code\n",
    "if -> executes block if condition is true\n",
    "if-else -> adds an alternative path\n",
    "if-elif-else -> multiple conditions\n",
    "nested if -> if inside another if"
   ]
  },
  {
   "cell_type": "code",
   "execution_count": 4,
   "id": "367fe559-8992-4a1d-8295-a7b9fbdd11a5",
   "metadata": {},
   "outputs": [
    {
     "name": "stdout",
     "output_type": "stream",
     "text": [
      "x is greater than 10\n",
      "y is odd\n",
      "Grade: A\n",
      "Number is negative\n",
      "Eligible for student discount\n"
     ]
    }
   ],
   "source": [
    "# if statement\n",
    "x = 15\n",
    "if x > 10:\n",
    "    print(\"x is greater than 10\")\n",
    "\n",
    "# if-else statement\n",
    "y = 5\n",
    "if y % 2 == 0:\n",
    "    print(\"y is even\")\n",
    "else:\n",
    "    print(\"y is odd\")\n",
    "\n",
    "# if-elif-else statement\n",
    "marks = 85\n",
    "if marks >= 90:\n",
    "    print(\"Grade: A+\")\n",
    "elif marks >= 75:\n",
    "    print(\"Grade: A\")\n",
    "elif marks >= 60:\n",
    "    print(\"Grade: B\")\n",
    "else:\n",
    "    print(\"Grade: C\")\n",
    "\n",
    "# Nested if\n",
    "num = -5\n",
    "if num >= 0:\n",
    "    if num == 0:\n",
    "        print(\"Number is zero\")\n",
    "    else:\n",
    "        print(\"Number is positive\")\n",
    "else:\n",
    "    print(\"Number is negative\")\n",
    "\n",
    "# Using logical operators\n",
    "age = 20\n",
    "student = True\n",
    "if age > 18 and student:\n",
    "    print(\"Eligible for student discount\")"
   ]
  },
  {
   "cell_type": "markdown",
   "id": "48458e7a-082d-4a8d-9883-a81590eac0b8",
   "metadata": {},
   "source": [
    "# Week 1 mini projects\n",
    "1] Word Counter -> This program counts how many times a specific word appears in a sentence."
   ]
  },
  {
   "cell_type": "code",
   "execution_count": 5,
   "id": "6e56eb3b-0dcb-449e-ac66-b9d97016bf6c",
   "metadata": {},
   "outputs": [
    {
     "name": "stdout",
     "output_type": "stream",
     "text": [
      "The word 'data' appears 3 times.\n"
     ]
    }
   ],
   "source": [
    "sentence = \"Data science is fun. Learning data is important in data science.\"\n",
    "word_to_count = \"data\"\n",
    "count = sentence.lower().split().count(word_to_count.lower())\n",
    "print(f\"The word '{word_to_count}' appears {count} times.\")"
   ]
  },
  {
   "cell_type": "markdown",
   "id": "019fbc06-a8d3-49b8-9aa0-2bc4bf4c6aea",
   "metadata": {},
   "source": [
    "2]Student Grading System -> This program takes marks and assigns grades using conditional statements."
   ]
  },
  {
   "cell_type": "code",
   "execution_count": 9,
   "id": "944d668b-4a3b-4295-ad26-6317979b3355",
   "metadata": {},
   "outputs": [
    {
     "name": "stdin",
     "output_type": "stream",
     "text": [
      "Enter your marks (0–100):  78\n"
     ]
    },
    {
     "name": "stdout",
     "output_type": "stream",
     "text": [
      "Your Grade is: A\n"
     ]
    }
   ],
   "source": [
    "marks = int(input(\"Enter your marks (0–100): \"))\n",
    "\n",
    "if marks >= 90:\n",
    "    grade = \"A+\"\n",
    "elif marks >= 75:\n",
    "    grade = \"A\"\n",
    "elif marks >= 60:\n",
    "    grade = \"B\"\n",
    "elif marks >= 40:\n",
    "    grade = \"C\"\n",
    "else:\n",
    "    grade = \"Fail\"\n",
    "\n",
    "print(f\"Your Grade is: {grade}\")"
   ]
  },
  {
   "cell_type": "code",
   "execution_count": null,
   "id": "f905cabd-0a10-4335-8c70-f1d116041960",
   "metadata": {},
   "outputs": [],
   "source": []
  }
 ],
 "metadata": {
  "kernelspec": {
   "display_name": "Python 3 (ipykernel)",
   "language": "python",
   "name": "python3"
  },
  "language_info": {
   "codemirror_mode": {
    "name": "ipython",
    "version": 3
   },
   "file_extension": ".py",
   "mimetype": "text/x-python",
   "name": "python",
   "nbconvert_exporter": "python",
   "pygments_lexer": "ipython3",
   "version": "3.13.1"
  }
 },
 "nbformat": 4,
 "nbformat_minor": 5
}
