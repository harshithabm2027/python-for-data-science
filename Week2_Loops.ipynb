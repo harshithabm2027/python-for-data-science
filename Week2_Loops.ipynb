{
 "cells": [
  {
   "cell_type": "markdown",
   "id": "2bc12226-2526-4669-b914-ac13916afb10",
   "metadata": {},
   "source": [
    "What are loops?\n",
    "Loops allow us to repeat a block of code multiple times until a condition is met.They help reduce redundancy and make code efficient.\n",
    "\n",
    "Types of loops in python\n",
    "1.for loop -> Used when we know the number of iterations.\n",
    "2.while loop -> Used when iterations depend on a condition.\n",
    "\n",
    "Control Statements\n",
    "break -> Exit the loop immediately\n",
    "continue -> Skip current iteration and continue with the next\n",
    "pass -> Placeholder,does nothing(used to avoid empty code blocks)"
   ]
  },
  {
   "cell_type": "markdown",
   "id": "38906543-158b-49ba-a07a-829ef6a0ed09",
   "metadata": {},
   "source": [
    "# for Loop Examples"
   ]
  },
  {
   "cell_type": "code",
   "execution_count": 4,
   "id": "79d6bb2c-51f9-44fa-9bee-197c37992c57",
   "metadata": {},
   "outputs": [
    {
     "name": "stdout",
     "output_type": "stream",
     "text": [
      "10 9 8 7 6 5 4 3 2 1 "
     ]
    }
   ],
   "source": [
    "#print numbers from 10 to 1\n",
    "for i in range(10,0,-1):\n",
    "    print(i,end=\" \")"
   ]
  },
  {
   "cell_type": "code",
   "execution_count": 3,
   "id": "8d52eede-0233-4bce-9281-a620c143c041",
   "metadata": {},
   "outputs": [
    {
     "name": "stdout",
     "output_type": "stream",
     "text": [
      "apple\n",
      "banana\n",
      "cherry\n"
     ]
    }
   ],
   "source": [
    "#iterating over a list\n",
    "fruits=[\"apple\",\"banana\",\"cherry\"]\n",
    "for fruit in fruits:\n",
    "    print(fruit)"
   ]
  },
  {
   "cell_type": "code",
   "execution_count": 10,
   "id": "d2675600-fe9b-489f-aaad-539b5a3802c1",
   "metadata": {},
   "outputs": [
    {
     "name": "stdout",
     "output_type": "stream",
     "text": [
      "0 1 1 2 3 5 8 13 21 34 "
     ]
    }
   ],
   "source": [
    "#fibonacci sequence\n",
    "a,b=0,1\n",
    "for _ in range(10):\n",
    "    print(a,end=\" \")\n",
    "    a,b=b,a+b"
   ]
  },
  {
   "cell_type": "code",
   "execution_count": 8,
   "id": "06f09ad6-34d4-43a2-bb5e-c51fdbc5c489",
   "metadata": {},
   "outputs": [
    {
     "name": "stdout",
     "output_type": "stream",
     "text": [
      "1\n",
      "12\n",
      "123\n",
      "1234\n",
      "12345\n"
     ]
    }
   ],
   "source": [
    "#number pyramid\n",
    "rows=5\n",
    "for i in range(1,rows+1):\n",
    "    for j in range(1,i+1):\n",
    "        print(j, end=\"\")\n",
    "    print()    "
   ]
  },
  {
   "cell_type": "markdown",
   "id": "d1d9fde0-f178-4846-9084-77eccff58054",
   "metadata": {},
   "source": [
    "# while Loop Examples"
   ]
  },
  {
   "cell_type": "code",
   "execution_count": 13,
   "id": "8d7dfada-e740-4391-9b13-e062ce54f1fc",
   "metadata": {},
   "outputs": [
    {
     "name": "stdout",
     "output_type": "stream",
     "text": [
      "Sum: 15\n"
     ]
    }
   ],
   "source": [
    "#sum of first N natural numbers\n",
    "n=5\n",
    "sum_n=0\n",
    "i=1\n",
    "while i<=n:\n",
    "    sum_n+=i\n",
    "    i+=1\n",
    "print(\"Sum:\",sum_n) "
   ]
  },
  {
   "cell_type": "code",
   "execution_count": 16,
   "id": "3bf53d5b-c810-4b57-bcb7-eb0b530a4c8d",
   "metadata": {},
   "outputs": [
    {
     "name": "stdout",
     "output_type": "stream",
     "text": [
      "factorial: 120\n"
     ]
    }
   ],
   "source": [
    "#factorial of number\n",
    "num=5\n",
    "fact=1\n",
    "i=1\n",
    "while i<=num:\n",
    "    fact *=i\n",
    "    i+=1\n",
    "print(\"factorial:\",fact)    \n",
    "    "
   ]
  },
  {
   "cell_type": "markdown",
   "id": "c8f013c6-1fd7-48b0-a66b-b09d0cca4a62",
   "metadata": {},
   "source": [
    "# control statements"
   ]
  },
  {
   "cell_type": "code",
   "execution_count": 18,
   "id": "1802fba4-b20f-4b1a-9d70-c42507e633ba",
   "metadata": {},
   "outputs": [
    {
     "name": "stdout",
     "output_type": "stream",
     "text": [
      "1\n",
      "2\n",
      "3\n",
      "4\n",
      "5\n",
      "6\n"
     ]
    }
   ],
   "source": [
    "#using break\n",
    "for i in range(1,10):\n",
    "    if i==7:\n",
    "        break\n",
    "    print(i)    "
   ]
  },
  {
   "cell_type": "code",
   "execution_count": 24,
   "id": "09f6c595-1582-49a5-90e4-64b91456d52e",
   "metadata": {},
   "outputs": [
    {
     "name": "stdout",
     "output_type": "stream",
     "text": [
      "1 2 3 5 6 7 8 9 "
     ]
    }
   ],
   "source": [
    "#using continue\n",
    "for i in range(1,10):\n",
    "    if i==4:\n",
    "        continue\n",
    "    print(i,end=\" \")    "
   ]
  },
  {
   "cell_type": "code",
   "execution_count": 25,
   "id": "8471fbcc-584f-4e41-90dc-a1116d0c4392",
   "metadata": {},
   "outputs": [],
   "source": [
    "# Uisng pass\n",
    "for i in range(1,4):\n",
    "    pass #will do nothing"
   ]
  },
  {
   "cell_type": "markdown",
   "id": "d0330ab1-2cef-4f28-9d36-1af0a2ce23e0",
   "metadata": {},
   "source": [
    "# Nested loop"
   ]
  },
  {
   "cell_type": "code",
   "execution_count": 26,
   "id": "159927ff-5b54-4efd-9f7d-7ebe278dfac2",
   "metadata": {},
   "outputs": [
    {
     "name": "stdout",
     "output_type": "stream",
     "text": [
      "X Y X Y X \n",
      "Y X Y X Y \n",
      "X Y X Y X \n",
      "Y X Y X Y \n",
      "X Y X Y X \n"
     ]
    }
   ],
   "source": [
    "#checkboard pattern\n",
    "size=5\n",
    "for i in range(size):\n",
    "    for j in range(size):\n",
    "        if (i+j)%2==0:\n",
    "            print(\"X\",end=\" \")\n",
    "        else:\n",
    "            print(\"Y\",end=\" \")\n",
    "    print()        "
   ]
  },
  {
   "cell_type": "markdown",
   "id": "d53bab9c-47fa-41b8-9169-e80cbd2b4ba5",
   "metadata": {},
   "source": [
    "# Mini projects"
   ]
  },
  {
   "cell_type": "code",
   "execution_count": 27,
   "id": "28c060cf-170a-4e85-b9a5-7b4a3816eaba",
   "metadata": {},
   "outputs": [
    {
     "name": "stdout",
     "output_type": "stream",
     "text": [
      "    *\n",
      "   ***\n",
      "  *****\n",
      " *******\n",
      "*********\n",
      " *******\n",
      "  *****\n",
      "   ***\n",
      "    *\n"
     ]
    }
   ],
   "source": [
    "# Diamond shape with stars\n",
    "rows = 5\n",
    "\n",
    "# Upper part\n",
    "for i in range(1, rows + 1):\n",
    "    print(\" \" * (rows - i) + \"*\" * (2*i - 1))\n",
    "\n",
    "# Lower part\n",
    "for i in range(rows - 1, 0, -1):\n",
    "    print(\" \" * (rows - i) + \"*\" * (2*i - 1))"
   ]
  },
  {
   "cell_type": "code",
   "execution_count": 28,
   "id": "3deb2f66-988e-4e34-88ef-20a05b9958d1",
   "metadata": {},
   "outputs": [
    {
     "name": "stdout",
     "output_type": "stream",
     "text": [
      "|   |   |   |\n",
      "------------\n",
      "|   |   |   |\n",
      "------------\n",
      "|   |   |   |\n",
      "------------\n"
     ]
    }
   ],
   "source": [
    "# Generate a 3x3 Tic-Tac-Toe board\n",
    "size = 3\n",
    "for i in range(size):\n",
    "    for j in range(size):\n",
    "        print(\"|   \", end=\"\")\n",
    "    print(\"|\")\n",
    "    print(\"----\" * size)"
   ]
  },
  {
   "cell_type": "code",
   "execution_count": null,
   "id": "726292a9-e24c-4ddc-89ae-25106bb7e595",
   "metadata": {},
   "outputs": [],
   "source": []
  }
 ],
 "metadata": {
  "kernelspec": {
   "display_name": "Python 3 (ipykernel)",
   "language": "python",
   "name": "python3"
  },
  "language_info": {
   "codemirror_mode": {
    "name": "ipython",
    "version": 3
   },
   "file_extension": ".py",
   "mimetype": "text/x-python",
   "name": "python",
   "nbconvert_exporter": "python",
   "pygments_lexer": "ipython3",
   "version": "3.13.1"
  }
 },
 "nbformat": 4,
 "nbformat_minor": 5
}
